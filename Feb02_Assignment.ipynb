{
 "cells": [
  {
   "cell_type": "markdown",
   "id": "0d172972-a446-497d-bf85-1873fb72755a",
   "metadata": {
    "tags": []
   },
   "source": [
    "## Q1. What are the characteristics of the tuples? Is tuple immutable?"
   ]
  },
  {
   "cell_type": "code",
   "execution_count": null,
   "id": "1712db6d-2b79-4d4d-bc09-caa130f8845d",
   "metadata": {},
   "outputs": [],
   "source": [
    "#Tuples are ordered collection of elements that can be of different data types. It can perform many characteristics as that of a list in terms of indexing, slicing, etc. The major difference between lists and tuples is that lists are mutable where tuples are immutable. So, yes. Tuples are immutable.\"\"\""
   ]
  },
  {
   "cell_type": "markdown",
   "id": "a2a64907-0459-4974-ae50-c1f2e65fc876",
   "metadata": {
    "tags": []
   },
   "source": [
    "## Q2. What are the two tuple methods in python? Give an example of each method. Give a reason why tuples have only two in-built methods as compared to Lists."
   ]
  },
  {
   "cell_type": "code",
   "execution_count": 7,
   "id": "a51eed20-a6cd-4722-beff-85370bf4abf9",
   "metadata": {},
   "outputs": [],
   "source": [
    "t1 = (\"Sid\",1,5,0,4,0,4)"
   ]
  },
  {
   "cell_type": "code",
   "execution_count": 9,
   "id": "1534bbae-63f0-442b-904b-1d174aa1b588",
   "metadata": {},
   "outputs": [
    {
     "data": {
      "text/plain": [
       "('Sid', 1, 5, 0, 4, 0, 4)"
      ]
     },
     "execution_count": 9,
     "metadata": {},
     "output_type": "execute_result"
    }
   ],
   "source": [
    "t1"
   ]
  },
  {
   "cell_type": "code",
   "execution_count": 8,
   "id": "d92bad06-0e6c-48cd-9a93-cf596e013fc7",
   "metadata": {},
   "outputs": [
    {
     "data": {
      "text/plain": [
       "2"
      ]
     },
     "execution_count": 8,
     "metadata": {},
     "output_type": "execute_result"
    }
   ],
   "source": [
    "# Method1: Count method returns occurences of a value\n",
    "t1.count(0)"
   ]
  },
  {
   "cell_type": "code",
   "execution_count": 6,
   "id": "f11bea33-1adc-4f4c-b982-58661e025bd8",
   "metadata": {},
   "outputs": [
    {
     "data": {
      "text/plain": [
       "3"
      ]
     },
     "execution_count": 6,
     "metadata": {},
     "output_type": "execute_result"
    }
   ],
   "source": [
    "# Method2: Index method returns the first occurence of the value\n",
    "t1.index(0)"
   ]
  },
  {
   "cell_type": "code",
   "execution_count": null,
   "id": "132d5002-7b1f-4f37-a144-4e15bef6b694",
   "metadata": {},
   "outputs": [],
   "source": [
    "## The major reason tuples have only two in built methods is because of it's immutability character compared to lists having mutable characteristics."
   ]
  },
  {
   "cell_type": "markdown",
   "id": "c4aeb7ba-fae6-4375-b9f8-56dca7f8dd8d",
   "metadata": {
    "tags": []
   },
   "source": [
    "## Q3. Which collection datatypes in python do not allow duplicate items? Write a code using a set to remove duplicates from the given list.\n",
    "## List = [1, 1, 1, 2, 1, 3, 1, 4, 2, 1, 2, 2, 2, 3, 2, 4, 3, 1, 3, 2, 3, 3, 3, 4, 4, 1, 4, 2, 4, 3, 4, 4]"
   ]
  },
  {
   "cell_type": "code",
   "execution_count": null,
   "id": "575b6ec4-acce-4df4-8c72-3aff658ec769",
   "metadata": {},
   "outputs": [],
   "source": [
    "# Set is a collection datatype that doesn't allow duplicates."
   ]
  },
  {
   "cell_type": "code",
   "execution_count": 10,
   "id": "c0d33d28-5a39-460e-a054-bcef0cb12b63",
   "metadata": {},
   "outputs": [
    {
     "data": {
      "text/plain": [
       "{1, 2, 3, 4}"
      ]
     },
     "execution_count": 10,
     "metadata": {},
     "output_type": "execute_result"
    }
   ],
   "source": [
    "lst1 = [1, 1, 1, 2, 1, 3, 1, 4, 2, 1, 2, 2, 2, 3, 2, 4, 3, 1, 3, 2, 3, 3, 3, 4, 4, 1, 4, 2, 4, 3, 4, 4]\n",
    "set(lst1)"
   ]
  },
  {
   "cell_type": "markdown",
   "id": "d04fc63d-131c-4270-a365-3d9597e9000c",
   "metadata": {
    "tags": []
   },
   "source": [
    "## Q4. Explain the difference between the union() and update() methods for a set. Give an example of each method."
   ]
  },
  {
   "cell_type": "code",
   "execution_count": 64,
   "id": "71e32235-140f-4ef1-902e-08fe5db35db6",
   "metadata": {},
   "outputs": [],
   "source": [
    "s1 = {1,5,0,4,0,4}\n",
    "s2 = {8,9,1,9,1,0,6,8,6,4}\n",
    "s3 = {2,1,0,6,2,0,2,3}"
   ]
  },
  {
   "cell_type": "code",
   "execution_count": 65,
   "id": "83d63d90-aa71-4467-be8c-e02d485705b6",
   "metadata": {},
   "outputs": [
    {
     "data": {
      "text/plain": [
       "({0, 1, 4, 5}, {0, 1, 4, 6, 8, 9}, {0, 1, 2, 3, 6})"
      ]
     },
     "execution_count": 65,
     "metadata": {},
     "output_type": "execute_result"
    }
   ],
   "source": [
    "s1,s2,s3"
   ]
  },
  {
   "cell_type": "code",
   "execution_count": 66,
   "id": "5b42f727-9d5a-4b8a-8490-916ccac9f8db",
   "metadata": {},
   "outputs": [
    {
     "data": {
      "text/plain": [
       "{0, 1, 4, 5, 6, 8, 9}"
      ]
     },
     "execution_count": 66,
     "metadata": {},
     "output_type": "execute_result"
    }
   ],
   "source": [
    "#Method1 : Union\n",
    "\n",
    "s1.union(s2)"
   ]
  },
  {
   "cell_type": "code",
   "execution_count": 67,
   "id": "eda9268a-e829-416c-b69c-fec3c1edbf13",
   "metadata": {},
   "outputs": [
    {
     "data": {
      "text/plain": [
       "{0, 1, 4, 5}"
      ]
     },
     "execution_count": 67,
     "metadata": {},
     "output_type": "execute_result"
    }
   ],
   "source": [
    "s1"
   ]
  },
  {
   "cell_type": "code",
   "execution_count": 69,
   "id": "fb5338e7-b545-48b4-bbe3-2d326a4e0b5a",
   "metadata": {},
   "outputs": [],
   "source": [
    "#Method2 : Update\n",
    "\n",
    "s3.update(s2)"
   ]
  },
  {
   "cell_type": "code",
   "execution_count": 70,
   "id": "8d0f3609-6067-4f20-83fb-83fe7c1c954c",
   "metadata": {},
   "outputs": [
    {
     "data": {
      "text/plain": [
       "{0, 1, 2, 3, 4, 6, 8, 9}"
      ]
     },
     "execution_count": 70,
     "metadata": {},
     "output_type": "execute_result"
    }
   ],
   "source": [
    "s3"
   ]
  },
  {
   "cell_type": "code",
   "execution_count": null,
   "id": "492a3583-16b8-4b69-8c61-ef7f0fefcfd5",
   "metadata": {},
   "outputs": [],
   "source": [
    "# To conclude, union method returns a new set whereas update method updates in the set itself"
   ]
  },
  {
   "cell_type": "markdown",
   "id": "227f1240-a13b-4498-bd23-387af64da4f4",
   "metadata": {
    "tags": []
   },
   "source": [
    "## Q5. What is a dictionary? Give an example. Also, state whether a dictionary is ordered or unordered."
   ]
  },
  {
   "cell_type": "code",
   "execution_count": 76,
   "id": "c63b56d5-32f1-4c0a-9aa7-6f914fec31c1",
   "metadata": {},
   "outputs": [],
   "source": [
    "# Dictionary is a data  structure that stores a collection of key-value pairs.\n",
    "\n",
    "d1 = {\"name\" : \"Siddartha\", \"email_id\" : \"siddarthatarra@gmail.com\", \"number\" : 8919106864}"
   ]
  },
  {
   "cell_type": "code",
   "execution_count": 77,
   "id": "c724b538-e585-4185-8eb6-957a11be2e03",
   "metadata": {},
   "outputs": [
    {
     "data": {
      "text/plain": [
       "{'name': 'Siddartha',\n",
       " 'email_id': 'siddarthatarra@gmail.com',\n",
       " 'number': 8919106864}"
      ]
     },
     "execution_count": 77,
     "metadata": {},
     "output_type": "execute_result"
    }
   ],
   "source": [
    "d1"
   ]
  },
  {
   "cell_type": "code",
   "execution_count": 81,
   "id": "d400e771-4f64-4cbb-a01e-519c8b05bb16",
   "metadata": {},
   "outputs": [
    {
     "data": {
      "text/plain": [
       "'Siddartha'"
      ]
     },
     "execution_count": 81,
     "metadata": {},
     "output_type": "execute_result"
    }
   ],
   "source": [
    "d1[\"name\"]"
   ]
  },
  {
   "cell_type": "code",
   "execution_count": null,
   "id": "4a74d01e-4e51-42b6-bd83-0b9770a410f1",
   "metadata": {},
   "outputs": [],
   "source": [
    "# It is an ordered data structure in the recent python versions"
   ]
  },
  {
   "cell_type": "markdown",
   "id": "f48416f3-41df-4df9-a3d5-ffab41e98daf",
   "metadata": {
    "tags": []
   },
   "source": [
    "## Q6. Can we create a nested dictionary? If so, please give an example by creating a simple one-level nested dictionary."
   ]
  },
  {
   "cell_type": "code",
   "execution_count": 82,
   "id": "c5c33180-7acd-4489-8531-0857265ecfd6",
   "metadata": {},
   "outputs": [],
   "source": [
    "# Yes, we can create a nested dictionary by using dictionaries in place of values. We can access it with the help of the key.\n",
    "\n",
    "d2 = {1 : {\"name\" : \"Siddartha\", \"email_id\" : \"siddarthatarra@gmail.com\", \"number\" : 8919106864}}"
   ]
  },
  {
   "cell_type": "code",
   "execution_count": 83,
   "id": "a24a783d-bc24-43e2-be2f-8ccd5bcdfbc0",
   "metadata": {},
   "outputs": [
    {
     "data": {
      "text/plain": [
       "{'name': 'Siddartha',\n",
       " 'email_id': 'siddarthatarra@gmail.com',\n",
       " 'number': 8919106864}"
      ]
     },
     "execution_count": 83,
     "metadata": {},
     "output_type": "execute_result"
    }
   ],
   "source": [
    "d2[1]"
   ]
  },
  {
   "cell_type": "markdown",
   "id": "6a6a0daa-088d-4251-8c96-04e49e135dd2",
   "metadata": {
    "tags": []
   },
   "source": [
    "## Q7. Using setdefault() method, create key named topics in the given dictionary and also add the value of the key as this list ['Python', 'Machine Learning’, 'Deep Learning']\n",
    "## dict1 = {'language' : 'Python', 'course': 'Data Science Masters'}"
   ]
  },
  {
   "cell_type": "code",
   "execution_count": 86,
   "id": "f54e76dd-648d-42ef-ba61-a95543393960",
   "metadata": {},
   "outputs": [
    {
     "data": {
      "text/plain": [
       "['Python', 'Machine Learning', 'Deep Learning']"
      ]
     },
     "execution_count": 86,
     "metadata": {},
     "output_type": "execute_result"
    }
   ],
   "source": [
    "dict1 = {'language' : 'Python', 'course': 'Data Science Masters'}\n",
    "\n",
    "dict1.setdefault(\"topics\",[\"Python\", \"Machine Learning\", \"Deep Learning\"])"
   ]
  },
  {
   "cell_type": "code",
   "execution_count": 87,
   "id": "5c7de556-b86c-4461-b667-6e810b0f736d",
   "metadata": {},
   "outputs": [
    {
     "data": {
      "text/plain": [
       "{'language': 'Python',\n",
       " 'course': 'Data Science Masters',\n",
       " 'topics': ['Python', 'Machine Learning', 'Deep Learning']}"
      ]
     },
     "execution_count": 87,
     "metadata": {},
     "output_type": "execute_result"
    }
   ],
   "source": [
    "dict1"
   ]
  },
  {
   "cell_type": "markdown",
   "id": "fe928063-409e-4b12-af81-59b38bf7d6a8",
   "metadata": {
    "tags": []
   },
   "source": [
    "## Q8. What are the three view objects in dictionaries? Use the three in-built methods in python to display these three view objects for the given dictionary.\n",
    "## dict1 = {'Sport': 'Cricket' , 'Teams': ['India', 'Australia', 'England', 'South Africa', 'Sri Lanka', 'New Zealand']}"
   ]
  },
  {
   "cell_type": "code",
   "execution_count": 88,
   "id": "635e6ef1-470b-4878-9e78-220cb5a1ef62",
   "metadata": {},
   "outputs": [
    {
     "data": {
      "text/plain": [
       "dict_keys(['Sport', 'Teams'])"
      ]
     },
     "execution_count": 88,
     "metadata": {},
     "output_type": "execute_result"
    }
   ],
   "source": [
    "dict1 = {'Sport': 'Cricket' , 'Teams': ['India', 'Australia', 'England', 'South Africa', 'Sri Lanka', 'New Zealand']}\n",
    "\n",
    "# Three view objects in dictionaries are keys, values & key-value pairs\n",
    "\n",
    "# Method for viewing keys\n",
    "\n",
    "dict1.keys()"
   ]
  },
  {
   "cell_type": "code",
   "execution_count": 90,
   "id": "fdb63681-b434-4a65-85ed-4abbe7b371f8",
   "metadata": {},
   "outputs": [
    {
     "data": {
      "text/plain": [
       "dict_values(['Cricket', ['India', 'Australia', 'England', 'South Africa', 'Sri Lanka', 'New Zealand']])"
      ]
     },
     "execution_count": 90,
     "metadata": {},
     "output_type": "execute_result"
    }
   ],
   "source": [
    "# Method for viewing values\n",
    "\n",
    "dict1.values()"
   ]
  },
  {
   "cell_type": "code",
   "execution_count": 91,
   "id": "dcc36d91-cfc4-4e90-9c9c-3c11fcfb5b16",
   "metadata": {},
   "outputs": [
    {
     "data": {
      "text/plain": [
       "dict_items([('Sport', 'Cricket'), ('Teams', ['India', 'Australia', 'England', 'South Africa', 'Sri Lanka', 'New Zealand'])])"
      ]
     },
     "execution_count": 91,
     "metadata": {},
     "output_type": "execute_result"
    }
   ],
   "source": [
    "# Method for viewing items i.e key-value pairs\n",
    "\n",
    "dict1.items()"
   ]
  }
 ],
 "metadata": {
  "kernelspec": {
   "display_name": "Python 3 (ipykernel)",
   "language": "python",
   "name": "python3"
  },
  "language_info": {
   "codemirror_mode": {
    "name": "ipython",
    "version": 3
   },
   "file_extension": ".py",
   "mimetype": "text/x-python",
   "name": "python",
   "nbconvert_exporter": "python",
   "pygments_lexer": "ipython3",
   "version": "3.10.8"
  }
 },
 "nbformat": 4,
 "nbformat_minor": 5
}
