{
 "cells": [
  {
   "cell_type": "markdown",
   "id": "e564ff7f-cf4f-4722-a614-e8651ad786aa",
   "metadata": {},
   "source": [
    "## Q1. Create a python program to sort the given list of tuples based on integer value using a lambda function.\n",
    "## [('Sachin Tendulkar', 34357), ('Ricky Ponting', 27483), ('Jack Kallis', 25534), ('Virat Kohli', 24936)]"
   ]
  },
  {
   "cell_type": "code",
   "execution_count": 16,
   "id": "47e92207-a8f1-42d8-86f5-b5a03f744211",
   "metadata": {},
   "outputs": [],
   "source": [
    "l1 = [('Sachin Tendulkar', 34357), ('Ricky Ponting', 27483), ('Jack Kallis', 25534), ('Virat Kohli', 24936)]"
   ]
  },
  {
   "cell_type": "code",
   "execution_count": 25,
   "id": "a219ea05-078d-4502-84ba-93e048032065",
   "metadata": {},
   "outputs": [],
   "source": [
    "l2 = sorted(l1, key= lambda x:x[1])"
   ]
  },
  {
   "cell_type": "code",
   "execution_count": 26,
   "id": "9d4ff776-7e1b-4af5-98a9-3da110a2a71b",
   "metadata": {},
   "outputs": [
    {
     "data": {
      "text/plain": [
       "[('Virat Kohli', 24936),\n",
       " ('Jack Kallis', 25534),\n",
       " ('Ricky Ponting', 27483),\n",
       " ('Sachin Tendulkar', 34357)]"
      ]
     },
     "execution_count": 26,
     "metadata": {},
     "output_type": "execute_result"
    }
   ],
   "source": [
    "l2"
   ]
  },
  {
   "cell_type": "markdown",
   "id": "9d6be115-4cf0-4900-88e9-1a240aed8845",
   "metadata": {},
   "source": [
    "## Q2. Write a Python Program to find the squares of all the numbers in the given list of integers using lambda and map functions.\n",
    "[1, 2, 3, 4, 5, 6, 7, 8, 9, 10]"
   ]
  },
  {
   "cell_type": "code",
   "execution_count": 27,
   "id": "bff9b345-3318-4ce7-83f0-c12b04802109",
   "metadata": {},
   "outputs": [
    {
     "data": {
      "text/plain": [
       "[1, 4, 9, 16, 25, 36, 49, 64, 81, 100]"
      ]
     },
     "execution_count": 27,
     "metadata": {},
     "output_type": "execute_result"
    }
   ],
   "source": [
    "l3=[1,2,3,4,5,6,7,8,9,10]\n",
    "list(map(lambda x:x**2,l3))"
   ]
  },
  {
   "cell_type": "markdown",
   "id": "5e4966a6-c372-4118-bcff-0b1eb13a9947",
   "metadata": {},
   "source": [
    "## Q3. Write a python program to convert the given list of integers into a tuple of strings. Use map and lambda functions\n",
    "## Given String: [1, 2, 3, 4, 5, 6, 7, 8, 9, 10]\n",
    "## Expected output: ('1', '2', '3', '4', '5', '6', '7', '8', '9', '10')"
   ]
  },
  {
   "cell_type": "code",
   "execution_count": 29,
   "id": "a4e7ce22-6cca-4180-975c-e5d86131bb2f",
   "metadata": {},
   "outputs": [
    {
     "data": {
      "text/plain": [
       "('1', '2', '3', '4', '5', '6', '7', '8', '9', '10')"
      ]
     },
     "execution_count": 29,
     "metadata": {},
     "output_type": "execute_result"
    }
   ],
   "source": [
    "tuple(map(lambda x:str(x),l3))"
   ]
  },
  {
   "cell_type": "markdown",
   "id": "392c8b50-db28-4d1a-a743-cef410244005",
   "metadata": {},
   "source": [
    "## Q4. Write a python program using reduce function to compute the product of a list containing numbers from 1 to 25."
   ]
  },
  {
   "cell_type": "code",
   "execution_count": 31,
   "id": "1ca38e1d-c147-4711-9baa-c66b6546749c",
   "metadata": {},
   "outputs": [
    {
     "data": {
      "text/plain": [
       "15511210043330985984000000"
      ]
     },
     "execution_count": 31,
     "metadata": {},
     "output_type": "execute_result"
    }
   ],
   "source": [
    "from functools import reduce\n",
    "\n",
    "reduce(lambda x,y : x*y, range(1,26))"
   ]
  },
  {
   "cell_type": "markdown",
   "id": "fc29d2f4-fd60-4d7b-aef1-cf2699b8dd38",
   "metadata": {},
   "source": [
    "## Q5. Write a python program to filter the numbers in a given list that are divisible by 2 and 3 using the filter function.\n",
    "[2, 3, 6, 9, 27, 60, 90, 120, 55, 46]"
   ]
  },
  {
   "cell_type": "code",
   "execution_count": 48,
   "id": "66cff52c-3f33-47f8-8597-5fc539bd4787",
   "metadata": {},
   "outputs": [
    {
     "data": {
      "text/plain": [
       "[6, 60, 90, 120]"
      ]
     },
     "execution_count": 48,
     "metadata": {},
     "output_type": "execute_result"
    }
   ],
   "source": [
    "lst = [2, 3, 6, 9, 27, 60, 90, 120, 55, 46]\n",
    "\n",
    "list(filter(lambda x: x if x%6==0 else \"\",lst))"
   ]
  },
  {
   "cell_type": "markdown",
   "id": "a9c9d164-a788-4760-a3a2-95f364962efa",
   "metadata": {},
   "source": [
    "## Q6. Write a python program to find palindromes in the given list of strings using lambda and filter function.\n",
    "['python', 'php', 'aba', 'radar', 'level']"
   ]
  },
  {
   "cell_type": "code",
   "execution_count": 51,
   "id": "3ff2008e-5504-430b-ae2a-10954febe38f",
   "metadata": {},
   "outputs": [
    {
     "data": {
      "text/plain": [
       "['php', 'aba', 'radar', 'level']"
      ]
     },
     "execution_count": 51,
     "metadata": {},
     "output_type": "execute_result"
    }
   ],
   "source": [
    "l4 = ['python', 'php', 'aba', 'radar', 'level']\n",
    "\n",
    "list(filter(lambda x:x if x[i]==x[len(x)-1-i] else \"\" for,l4))"
   ]
  },
  {
   "cell_type": "code",
   "execution_count": null,
   "id": "8e60bb7c-1a5c-4b50-8c74-e80608ed8065",
   "metadata": {},
   "outputs": [],
   "source": []
  },
  {
   "cell_type": "code",
   "execution_count": null,
   "id": "c2ee9115-cd1b-4fff-8088-17fa3b18c46a",
   "metadata": {},
   "outputs": [],
   "source": []
  }
 ],
 "metadata": {
  "kernelspec": {
   "display_name": "Python 3 (ipykernel)",
   "language": "python",
   "name": "python3"
  },
  "language_info": {
   "codemirror_mode": {
    "name": "ipython",
    "version": 3
   },
   "file_extension": ".py",
   "mimetype": "text/x-python",
   "name": "python",
   "nbconvert_exporter": "python",
   "pygments_lexer": "ipython3",
   "version": "3.10.8"
  }
 },
 "nbformat": 4,
 "nbformat_minor": 5
}
