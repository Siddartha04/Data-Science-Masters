{
 "cells": [
  {
   "cell_type": "markdown",
   "id": "769c6c3c-4e19-46f4-8440-ab72ea64db66",
   "metadata": {},
   "source": [
    "## Q1. Which keyword is used to create a function? Create a function to return a list of odd numbers in the range of 1 to 25."
   ]
  },
  {
   "cell_type": "code",
   "execution_count": 1,
   "id": "3cdd03aa-75b9-4ce2-9eb8-ccb4bdd87107",
   "metadata": {},
   "outputs": [],
   "source": [
    "# def keyword is used to create a function. "
   ]
  },
  {
   "cell_type": "code",
   "execution_count": 4,
   "id": "adac9231-9407-4161-ace8-b458fa20f5fe",
   "metadata": {},
   "outputs": [],
   "source": [
    "def test():\n",
    "    n = []\n",
    "    for i in range(1,26):\n",
    "        if i%2!=0:\n",
    "            n.append(i)\n",
    "        else:\n",
    "            continue\n",
    "    return n"
   ]
  },
  {
   "cell_type": "code",
   "execution_count": 5,
   "id": "1f8cd738-7015-417a-a724-0208c3f2b81b",
   "metadata": {},
   "outputs": [
    {
     "data": {
      "text/plain": [
       "[1, 3, 5, 7, 9, 11, 13, 15, 17, 19, 21, 23, 25]"
      ]
     },
     "execution_count": 5,
     "metadata": {},
     "output_type": "execute_result"
    }
   ],
   "source": [
    "test()"
   ]
  },
  {
   "cell_type": "markdown",
   "id": "34ced8ef-8f74-40bd-aba6-861759e23169",
   "metadata": {
    "tags": []
   },
   "source": [
    "## Q2. Why *args and **kwargs is used in some functions? Create a function each for *args and **kwargs to demonstrate their use."
   ]
  },
  {
   "cell_type": "code",
   "execution_count": 6,
   "id": "87c3ba57-a23b-4bd2-ada8-0105e3273133",
   "metadata": {},
   "outputs": [],
   "source": [
    "# *args & **kwargs are used to take n number of arguments in a function."
   ]
  },
  {
   "cell_type": "code",
   "execution_count": 7,
   "id": "e5236412-6504-4c87-933c-f01d8171f11a",
   "metadata": {},
   "outputs": [],
   "source": [
    "def test1(*args):\n",
    "    sum_num = 0\n",
    "    for i in args:\n",
    "        if type(i)==int:\n",
    "            sum_num += i\n",
    "    return sum_num\n",
    "            "
   ]
  },
  {
   "cell_type": "code",
   "execution_count": 8,
   "id": "dab78d06-cb17-46da-876b-2393a3376f1d",
   "metadata": {},
   "outputs": [
    {
     "data": {
      "text/plain": [
       "14"
      ]
     },
     "execution_count": 8,
     "metadata": {},
     "output_type": "execute_result"
    }
   ],
   "source": [
    "test1(\"Sid\",1,5,0,4,0,4)"
   ]
  },
  {
   "cell_type": "code",
   "execution_count": 9,
   "id": "21509726-936d-42a8-80e7-eba07b41c130",
   "metadata": {},
   "outputs": [
    {
     "data": {
      "text/plain": [
       "52"
      ]
     },
     "execution_count": 9,
     "metadata": {},
     "output_type": "execute_result"
    }
   ],
   "source": [
    "test1(8,9,1,9,1,0,6,8,6,4)"
   ]
  },
  {
   "cell_type": "code",
   "execution_count": 10,
   "id": "99eb08e3-3b77-430a-aa35-c4f4cd7a966b",
   "metadata": {},
   "outputs": [],
   "source": [
    "def test2(**kwargs):\n",
    "    n = []\n",
    "    for i in kwargs.keys():\n",
    "        n.append(kwargs[i])\n",
    "    return n"
   ]
  },
  {
   "cell_type": "code",
   "execution_count": 14,
   "id": "f11f26db-7369-43d8-a126-11ea15009066",
   "metadata": {},
   "outputs": [
    {
     "data": {
      "text/plain": [
       "['Siddartha', 19]"
      ]
     },
     "execution_count": 14,
     "metadata": {},
     "output_type": "execute_result"
    }
   ],
   "source": [
    "test2(name = \"Siddartha\", age = 19)"
   ]
  },
  {
   "cell_type": "markdown",
   "id": "2b094986-445b-4d55-a4bf-cb356d8edea0",
   "metadata": {
    "tags": []
   },
   "source": [
    "## Q3. What is an iterator in python? Name the method used to initialise the iterator object and the method used for iteration. Use these methods to print the first five elements of the given list [2, 4, 6, 8, 10, 12, 14, 16, 18, 20]."
   ]
  },
  {
   "cell_type": "code",
   "execution_count": 20,
   "id": "d217f21b-1f27-42d2-9c31-2e4ce3b1fb40",
   "metadata": {},
   "outputs": [],
   "source": [
    "# Iterators are representing a stream of data that iterates over elements one by one. \n",
    "# iter() is used to initialise the iterator object\n",
    "# next() is used for iteration"
   ]
  },
  {
   "cell_type": "code",
   "execution_count": 19,
   "id": "4de15206-3bdd-463d-b4ad-2a686ca2c810",
   "metadata": {},
   "outputs": [
    {
     "name": "stdout",
     "output_type": "stream",
     "text": [
      "2 4 6 8 10 "
     ]
    }
   ],
   "source": [
    "lst = [2,4,6,8,10,12,14,16,18,20]\n",
    "iterator = iter(lst)\n",
    "\n",
    "for i in range(5):\n",
    "    print(next(iterator), end=\" \")"
   ]
  },
  {
   "cell_type": "markdown",
   "id": "33265b2f-8ade-4773-babe-56f017737f0d",
   "metadata": {},
   "source": [
    "## Q4. What is a generator function in python? Why yield keyword is used? Give an example of a generator function."
   ]
  },
  {
   "cell_type": "code",
   "execution_count": 21,
   "id": "37f8d325-21d9-482b-8462-39aa3b032534",
   "metadata": {},
   "outputs": [],
   "source": [
    "# Generator function returns an iterator by using the yield keyword. \n",
    "# Yield keyword is used to give values needed one at a time by being memory-efficient."
   ]
  },
  {
   "cell_type": "code",
   "execution_count": 23,
   "id": "40ba284b-266f-45f5-806b-1ea28c4d9c0d",
   "metadata": {},
   "outputs": [],
   "source": [
    "def gen_fun(n):\n",
    "    a,b=0,1\n",
    "    for i in range(n):\n",
    "        yield a\n",
    "        a,b = b,a+b"
   ]
  },
  {
   "cell_type": "code",
   "execution_count": 24,
   "id": "d3f5c582-270d-4489-a0d0-ab4e773c8f42",
   "metadata": {},
   "outputs": [
    {
     "data": {
      "text/plain": [
       "<generator object gen_fun at 0x7fd105b8db60>"
      ]
     },
     "execution_count": 24,
     "metadata": {},
     "output_type": "execute_result"
    }
   ],
   "source": [
    "gen_fun(10)"
   ]
  },
  {
   "cell_type": "code",
   "execution_count": 25,
   "id": "c2d432c1-9922-4796-8895-a02436843051",
   "metadata": {},
   "outputs": [
    {
     "name": "stdout",
     "output_type": "stream",
     "text": [
      "0\n",
      "1\n",
      "1\n",
      "2\n",
      "3\n",
      "5\n",
      "8\n",
      "13\n",
      "21\n",
      "34\n"
     ]
    }
   ],
   "source": [
    "for i in gen_fun(10):\n",
    "    print(i)"
   ]
  },
  {
   "cell_type": "markdown",
   "id": "fa40d4d9-6204-4dff-805a-022e1016096d",
   "metadata": {},
   "source": [
    "## Q5. Create a generator function for prime numbers less than 1000. Use the next() method to print the first 20 prime numbers."
   ]
  },
  {
   "cell_type": "code",
   "execution_count": 53,
   "id": "0656aad1-0ab7-4830-a843-38969f29fc18",
   "metadata": {},
   "outputs": [],
   "source": [
    "def prime(n):\n",
    "    for i in range(2,n,1):\n",
    "        for j in range(2,i):\n",
    "            if i%j==0:\n",
    "                break\n",
    "            elif j==i-1:\n",
    "                yield i"
   ]
  },
  {
   "cell_type": "code",
   "execution_count": 54,
   "id": "2aa2daa0-23af-45ce-9585-37ceeaf4596a",
   "metadata": {},
   "outputs": [
    {
     "data": {
      "text/plain": [
       "<generator object prime at 0x7fd1058c0430>"
      ]
     },
     "execution_count": 54,
     "metadata": {},
     "output_type": "execute_result"
    }
   ],
   "source": [
    "prime(1000)"
   ]
  },
  {
   "cell_type": "code",
   "execution_count": 58,
   "id": "c0c09580-271f-49f7-9278-65d69a08f354",
   "metadata": {},
   "outputs": [
    {
     "name": "stdout",
     "output_type": "stream",
     "text": [
      "3\n",
      "3\n",
      "3\n",
      "3\n",
      "3\n",
      "3\n",
      "3\n",
      "3\n",
      "3\n",
      "3\n",
      "3\n",
      "3\n",
      "3\n",
      "3\n",
      "3\n",
      "3\n",
      "3\n",
      "3\n",
      "3\n",
      "3\n"
     ]
    }
   ],
   "source": [
    "for i in range(20):\n",
    "    print(next(prime(1000)))\n",
    "    \n"
   ]
  },
  {
   "cell_type": "code",
   "execution_count": null,
   "id": "3864b114-c639-4761-862e-b691070b7321",
   "metadata": {},
   "outputs": [],
   "source": []
  }
 ],
 "metadata": {
  "kernelspec": {
   "display_name": "Python 3 (ipykernel)",
   "language": "python",
   "name": "python3"
  },
  "language_info": {
   "codemirror_mode": {
    "name": "ipython",
    "version": 3
   },
   "file_extension": ".py",
   "mimetype": "text/x-python",
   "name": "python",
   "nbconvert_exporter": "python",
   "pygments_lexer": "ipython3",
   "version": "3.10.8"
  }
 },
 "nbformat": 4,
 "nbformat_minor": 5
}
